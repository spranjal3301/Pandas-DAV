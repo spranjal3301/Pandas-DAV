{
  "cells": [
    {
      "cell_type": "code",
      "execution_count": 1,
      "metadata": {
        "id": "426gXnVRpk0e"
      },
      "outputs": [],
      "source": [
        "import numpy as np"
      ]
    },
    {
      "cell_type": "code",
      "execution_count": 2,
      "metadata": {
        "id": "LH8BQ2EDMV_h"
      },
      "outputs": [],
      "source": [
        "import pandas as pd\n",
        "import matplotlib.pyplot as plt"
      ]
    },
    {
      "cell_type": "code",
      "execution_count": null,
      "metadata": {
        "id": "w23vfai9McR_"
      },
      "outputs": [],
      "source": [
        "# /content/drive/MyDrive/Data_Analysis_and_Visualization_B_Tech_2023_2024/sales_data.csv"
      ]
    },
    {
      "cell_type": "code",
      "execution_count": 3,
      "metadata": {
        "id": "tuPSJy__MmxA"
      },
      "outputs": [],
      "source": [
        "sales_info=pd.read_csv('C:/Users/PRANJAL SINGH/OneDrive/Documents/DAV/LAB/Pandas/sales_data (1).csv')"
      ]
    },
    {
      "cell_type": "code",
      "execution_count": null,
      "metadata": {
        "id": "0Dql2YsrKuGt"
      },
      "outputs": [],
      "source": [
        "sales_info"
      ]
    },
    {
      "cell_type": "code",
      "execution_count": 5,
      "metadata": {
        "id": "y4qmq0NIq383"
      },
      "outputs": [
        {
          "data": {
            "text/plain": [
              "(113036, 18)"
            ]
          },
          "execution_count": 5,
          "metadata": {},
          "output_type": "execute_result"
        }
      ],
      "source": [
        "sales_info.shape"
      ]
    },
    {
      "cell_type": "code",
      "execution_count": 6,
      "metadata": {
        "id": "WVeeKipLNPck"
      },
      "outputs": [
        {
          "data": {
            "text/plain": [
              "<bound method DataFrame.info of               Date  Day     Month  Year  Customer_Age       Age_Group  \\\n",
              "0       2013-11-26   26  November  2013            19     Youth (<25)   \n",
              "1       2015-11-26   26  November  2015            19     Youth (<25)   \n",
              "2       2014-03-23   23     March  2014            49  Adults (35-64)   \n",
              "3       2016-03-23   23     March  2016            49  Adults (35-64)   \n",
              "4       2014-05-15   15       May  2014            47  Adults (35-64)   \n",
              "...            ...  ...       ...   ...           ...             ...   \n",
              "113031  2016-04-12   12     April  2016            41  Adults (35-64)   \n",
              "113032  2014-04-02    2     April  2014            18     Youth (<25)   \n",
              "113033  2016-04-02    2     April  2016            18     Youth (<25)   \n",
              "113034  2014-03-04    4     March  2014            37  Adults (35-64)   \n",
              "113035  2016-03-04    4     March  2016            37  Adults (35-64)   \n",
              "\n",
              "       Customer_Gender         Country             State Product_Category  \\\n",
              "0                    M          Canada  British Columbia      Accessories   \n",
              "1                    M          Canada  British Columbia      Accessories   \n",
              "2                    M       Australia   New South Wales      Accessories   \n",
              "3                    M       Australia   New South Wales      Accessories   \n",
              "4                    F       Australia   New South Wales      Accessories   \n",
              "...                ...             ...               ...              ...   \n",
              "113031               M  United Kingdom           England         Clothing   \n",
              "113032               M       Australia        Queensland         Clothing   \n",
              "113033               M       Australia        Queensland         Clothing   \n",
              "113034               F          France     Seine (Paris)         Clothing   \n",
              "113035               F          France     Seine (Paris)         Clothing   \n",
              "\n",
              "       Sub_Category              Product  Order_Quantity  Unit_Cost  \\\n",
              "0        Bike Racks  Hitch Rack - 4-Bike               8         45   \n",
              "1        Bike Racks  Hitch Rack - 4-Bike               8         45   \n",
              "2        Bike Racks  Hitch Rack - 4-Bike              23         45   \n",
              "3        Bike Racks  Hitch Rack - 4-Bike              20         45   \n",
              "4        Bike Racks  Hitch Rack - 4-Bike               4         45   \n",
              "...             ...                  ...             ...        ...   \n",
              "113031        Vests      Classic Vest, S               3         24   \n",
              "113032        Vests      Classic Vest, M              22         24   \n",
              "113033        Vests      Classic Vest, M              22         24   \n",
              "113034        Vests      Classic Vest, L              24         24   \n",
              "113035        Vests      Classic Vest, L              23         24   \n",
              "\n",
              "        Unit_Price  Profit  Cost  Revenue  \n",
              "0              120     590   360      950  \n",
              "1              120     590   360      950  \n",
              "2              120    1366  1035     2401  \n",
              "3              120    1188   900     2088  \n",
              "4              120     238   180      418  \n",
              "...            ...     ...   ...      ...  \n",
              "113031          64     112    72      184  \n",
              "113032          64     655   528     1183  \n",
              "113033          64     655   528     1183  \n",
              "113034          64     684   576     1260  \n",
              "113035          64     655   552     1207  \n",
              "\n",
              "[113036 rows x 18 columns]>"
            ]
          },
          "execution_count": 6,
          "metadata": {},
          "output_type": "execute_result"
        }
      ],
      "source": [
        "sales_info.info"
      ]
    },
    {
      "cell_type": "markdown",
      "metadata": {
        "id": "IfDHZSTqPfd4"
      },
      "source": [
        "How many columns are there?"
      ]
    },
    {
      "cell_type": "code",
      "execution_count": 7,
      "metadata": {
        "id": "3R2n1LFoeFkh"
      },
      "outputs": [
        {
          "name": "stdout",
          "output_type": "stream",
          "text": [
            "<class 'pandas.core.frame.DataFrame'>\n",
            "RangeIndex: 113036 entries, 0 to 113035\n",
            "Data columns (total 18 columns):\n",
            " #   Column            Non-Null Count   Dtype \n",
            "---  ------            --------------   ----- \n",
            " 0   Date              113036 non-null  object\n",
            " 1   Day               113036 non-null  int64 \n",
            " 2   Month             113036 non-null  object\n",
            " 3   Year              113036 non-null  int64 \n",
            " 4   Customer_Age      113036 non-null  int64 \n",
            " 5   Age_Group         113036 non-null  object\n",
            " 6   Customer_Gender   113036 non-null  object\n",
            " 7   Country           113036 non-null  object\n",
            " 8   State             113036 non-null  object\n",
            " 9   Product_Category  113036 non-null  object\n",
            " 10  Sub_Category      113036 non-null  object\n",
            " 11  Product           113036 non-null  object\n",
            " 12  Order_Quantity    113036 non-null  int64 \n",
            " 13  Unit_Cost         113036 non-null  int64 \n",
            " 14  Unit_Price        113036 non-null  int64 \n",
            " 15  Profit            113036 non-null  int64 \n",
            " 16  Cost              113036 non-null  int64 \n",
            " 17  Revenue           113036 non-null  int64 \n",
            "dtypes: int64(9), object(9)\n",
            "memory usage: 15.5+ MB\n"
          ]
        }
      ],
      "source": [
        "sales_info.info()"
      ]
    },
    {
      "cell_type": "code",
      "execution_count": 8,
      "metadata": {
        "id": "eVJCihA0sa8C"
      },
      "outputs": [
        {
          "data": {
            "text/plain": [
              "Index(['Date', 'Day', 'Month', 'Year', 'Customer_Age', 'Age_Group',\n",
              "       'Customer_Gender', 'Country', 'State', 'Product_Category',\n",
              "       'Sub_Category', 'Product', 'Order_Quantity', 'Unit_Cost', 'Unit_Price',\n",
              "       'Profit', 'Cost', 'Revenue'],\n",
              "      dtype='object')"
            ]
          },
          "execution_count": 8,
          "metadata": {},
          "output_type": "execute_result"
        }
      ],
      "source": [
        "sales_info.columns"
      ]
    },
    {
      "cell_type": "code",
      "execution_count": 9,
      "metadata": {
        "id": "nf78rYKKfADt"
      },
      "outputs": [
        {
          "data": {
            "text/plain": [
              "Index(['Date', 'Day', 'Month', 'Year', 'Customer_Age', 'Age_Group',\n",
              "       'Customer_Gender', 'Country', 'State', 'Product_Category',\n",
              "       'Sub_Category', 'Product', 'Order_Quantity', 'Unit_Cost', 'Unit_Price',\n",
              "       'Profit', 'Cost', 'Revenue'],\n",
              "      dtype='object')"
            ]
          },
          "execution_count": 9,
          "metadata": {},
          "output_type": "execute_result"
        }
      ],
      "source": [
        "sales_info_top=sales_info.head()\n",
        "sales_info_top.columns"
      ]
    },
    {
      "cell_type": "code",
      "execution_count": null,
      "metadata": {
        "colab": {
          "base_uri": "https://localhost:8080/"
        },
        "id": "sT5fQ2WxfNiu",
        "outputId": "4f2a5eea-2c6f-4c2a-99f1-6b95441bca82"
      },
      "outputs": [
        {
          "name": "stdout",
          "output_type": "stream",
          "text": [
            "Date\n",
            "Day\n",
            "Month\n",
            "Year\n",
            "Customer_Age\n",
            "Age_Group\n",
            "Customer_Gender\n",
            "Country\n",
            "State\n",
            "Product_Category\n",
            "Sub_Category\n",
            "Product\n",
            "Order_Quantity\n",
            "Unit_Cost\n",
            "Unit_Price\n",
            "Profit\n",
            "Cost\n",
            "Revenue\n"
          ]
        }
      ],
      "source": [
        "for col in sales_info.columns:\n",
        "    print(col)"
      ]
    },
    {
      "cell_type": "code",
      "execution_count": 10,
      "metadata": {
        "id": "bxs_ZN3_x5Ih"
      },
      "outputs": [
        {
          "data": {
            "text/html": [
              "<div>\n",
              "<style scoped>\n",
              "    .dataframe tbody tr th:only-of-type {\n",
              "        vertical-align: middle;\n",
              "    }\n",
              "\n",
              "    .dataframe tbody tr th {\n",
              "        vertical-align: top;\n",
              "    }\n",
              "\n",
              "    .dataframe thead th {\n",
              "        text-align: right;\n",
              "    }\n",
              "</style>\n",
              "<table border=\"1\" class=\"dataframe\">\n",
              "  <thead>\n",
              "    <tr style=\"text-align: right;\">\n",
              "      <th></th>\n",
              "      <th>Day</th>\n",
              "      <th>Year</th>\n",
              "      <th>Customer_Age</th>\n",
              "      <th>Order_Quantity</th>\n",
              "      <th>Unit_Cost</th>\n",
              "      <th>Unit_Price</th>\n",
              "      <th>Profit</th>\n",
              "      <th>Cost</th>\n",
              "      <th>Revenue</th>\n",
              "    </tr>\n",
              "  </thead>\n",
              "  <tbody>\n",
              "    <tr>\n",
              "      <th>count</th>\n",
              "      <td>113036.000000</td>\n",
              "      <td>113036.000000</td>\n",
              "      <td>113036.000000</td>\n",
              "      <td>113036.000000</td>\n",
              "      <td>113036.000000</td>\n",
              "      <td>113036.000000</td>\n",
              "      <td>113036.000000</td>\n",
              "      <td>113036.000000</td>\n",
              "      <td>113036.000000</td>\n",
              "    </tr>\n",
              "    <tr>\n",
              "      <th>mean</th>\n",
              "      <td>15.665753</td>\n",
              "      <td>2014.401739</td>\n",
              "      <td>35.919212</td>\n",
              "      <td>11.901660</td>\n",
              "      <td>267.296366</td>\n",
              "      <td>452.938427</td>\n",
              "      <td>285.051665</td>\n",
              "      <td>469.318695</td>\n",
              "      <td>754.370360</td>\n",
              "    </tr>\n",
              "    <tr>\n",
              "      <th>std</th>\n",
              "      <td>8.781567</td>\n",
              "      <td>1.272510</td>\n",
              "      <td>11.021936</td>\n",
              "      <td>9.561857</td>\n",
              "      <td>549.835483</td>\n",
              "      <td>922.071219</td>\n",
              "      <td>453.887443</td>\n",
              "      <td>884.866118</td>\n",
              "      <td>1309.094674</td>\n",
              "    </tr>\n",
              "    <tr>\n",
              "      <th>min</th>\n",
              "      <td>1.000000</td>\n",
              "      <td>2011.000000</td>\n",
              "      <td>17.000000</td>\n",
              "      <td>1.000000</td>\n",
              "      <td>1.000000</td>\n",
              "      <td>2.000000</td>\n",
              "      <td>-30.000000</td>\n",
              "      <td>1.000000</td>\n",
              "      <td>2.000000</td>\n",
              "    </tr>\n",
              "    <tr>\n",
              "      <th>25%</th>\n",
              "      <td>8.000000</td>\n",
              "      <td>2013.000000</td>\n",
              "      <td>28.000000</td>\n",
              "      <td>2.000000</td>\n",
              "      <td>2.000000</td>\n",
              "      <td>5.000000</td>\n",
              "      <td>29.000000</td>\n",
              "      <td>28.000000</td>\n",
              "      <td>63.000000</td>\n",
              "    </tr>\n",
              "    <tr>\n",
              "      <th>50%</th>\n",
              "      <td>16.000000</td>\n",
              "      <td>2014.000000</td>\n",
              "      <td>35.000000</td>\n",
              "      <td>10.000000</td>\n",
              "      <td>9.000000</td>\n",
              "      <td>24.000000</td>\n",
              "      <td>101.000000</td>\n",
              "      <td>108.000000</td>\n",
              "      <td>223.000000</td>\n",
              "    </tr>\n",
              "    <tr>\n",
              "      <th>75%</th>\n",
              "      <td>23.000000</td>\n",
              "      <td>2016.000000</td>\n",
              "      <td>43.000000</td>\n",
              "      <td>20.000000</td>\n",
              "      <td>42.000000</td>\n",
              "      <td>70.000000</td>\n",
              "      <td>358.000000</td>\n",
              "      <td>432.000000</td>\n",
              "      <td>800.000000</td>\n",
              "    </tr>\n",
              "    <tr>\n",
              "      <th>max</th>\n",
              "      <td>31.000000</td>\n",
              "      <td>2016.000000</td>\n",
              "      <td>87.000000</td>\n",
              "      <td>32.000000</td>\n",
              "      <td>2171.000000</td>\n",
              "      <td>3578.000000</td>\n",
              "      <td>15096.000000</td>\n",
              "      <td>42978.000000</td>\n",
              "      <td>58074.000000</td>\n",
              "    </tr>\n",
              "  </tbody>\n",
              "</table>\n",
              "</div>"
            ],
            "text/plain": [
              "                 Day           Year   Customer_Age  Order_Quantity  \\\n",
              "count  113036.000000  113036.000000  113036.000000   113036.000000   \n",
              "mean       15.665753    2014.401739      35.919212       11.901660   \n",
              "std         8.781567       1.272510      11.021936        9.561857   \n",
              "min         1.000000    2011.000000      17.000000        1.000000   \n",
              "25%         8.000000    2013.000000      28.000000        2.000000   \n",
              "50%        16.000000    2014.000000      35.000000       10.000000   \n",
              "75%        23.000000    2016.000000      43.000000       20.000000   \n",
              "max        31.000000    2016.000000      87.000000       32.000000   \n",
              "\n",
              "           Unit_Cost     Unit_Price         Profit           Cost  \\\n",
              "count  113036.000000  113036.000000  113036.000000  113036.000000   \n",
              "mean      267.296366     452.938427     285.051665     469.318695   \n",
              "std       549.835483     922.071219     453.887443     884.866118   \n",
              "min         1.000000       2.000000     -30.000000       1.000000   \n",
              "25%         2.000000       5.000000      29.000000      28.000000   \n",
              "50%         9.000000      24.000000     101.000000     108.000000   \n",
              "75%        42.000000      70.000000     358.000000     432.000000   \n",
              "max      2171.000000    3578.000000   15096.000000   42978.000000   \n",
              "\n",
              "             Revenue  \n",
              "count  113036.000000  \n",
              "mean      754.370360  \n",
              "std      1309.094674  \n",
              "min         2.000000  \n",
              "25%        63.000000  \n",
              "50%       223.000000  \n",
              "75%       800.000000  \n",
              "max     58074.000000  "
            ]
          },
          "execution_count": 10,
          "metadata": {},
          "output_type": "execute_result"
        }
      ],
      "source": [
        "sales_info.describe()"
      ]
    },
    {
      "cell_type": "markdown",
      "metadata": {
        "id": "u8yYhYKifrIW"
      },
      "source": [
        "What's the mean of Customers_Age?"
      ]
    },
    {
      "cell_type": "code",
      "execution_count": 11,
      "metadata": {
        "colab": {
          "base_uri": "https://localhost:8080/"
        },
        "id": "NDGnfQU8x3Xg",
        "outputId": "82468fbd-2971-403c-c53e-0946698a05db"
      },
      "outputs": [
        {
          "data": {
            "text/plain": [
              "35.91921157861212"
            ]
          },
          "execution_count": 11,
          "metadata": {},
          "output_type": "execute_result"
        }
      ],
      "source": [
        "sales_info['Customer_Age'].mean()"
      ]
    },
    {
      "cell_type": "code",
      "execution_count": 12,
      "metadata": {
        "id": "5u9Ji-h5yKNY"
      },
      "outputs": [
        {
          "data": {
            "text/plain": [
              "count    113036.000000\n",
              "mean         35.919212\n",
              "std          11.021936\n",
              "min          17.000000\n",
              "25%          28.000000\n",
              "50%          35.000000\n",
              "75%          43.000000\n",
              "max          87.000000\n",
              "Name: Customer_Age, dtype: float64"
            ]
          },
          "execution_count": 12,
          "metadata": {},
          "output_type": "execute_result"
        }
      ],
      "source": [
        "sales_info['Customer_Age'].describe()"
      ]
    },
    {
      "cell_type": "code",
      "execution_count": 13,
      "metadata": {
        "id": "vfw3pBcCx1mR"
      },
      "outputs": [
        {
          "data": {
            "text/html": [
              "<div>\n",
              "<style scoped>\n",
              "    .dataframe tbody tr th:only-of-type {\n",
              "        vertical-align: middle;\n",
              "    }\n",
              "\n",
              "    .dataframe tbody tr th {\n",
              "        vertical-align: top;\n",
              "    }\n",
              "\n",
              "    .dataframe thead th {\n",
              "        text-align: right;\n",
              "    }\n",
              "</style>\n",
              "<table border=\"1\" class=\"dataframe\">\n",
              "  <thead>\n",
              "    <tr style=\"text-align: right;\">\n",
              "      <th></th>\n",
              "      <th>Day</th>\n",
              "      <th>Year</th>\n",
              "      <th>Customer_Age</th>\n",
              "      <th>Order_Quantity</th>\n",
              "      <th>Unit_Cost</th>\n",
              "      <th>Unit_Price</th>\n",
              "      <th>Profit</th>\n",
              "      <th>Cost</th>\n",
              "      <th>Revenue</th>\n",
              "    </tr>\n",
              "  </thead>\n",
              "  <tbody>\n",
              "    <tr>\n",
              "      <th>count</th>\n",
              "      <td>113036.000000</td>\n",
              "      <td>113036.000000</td>\n",
              "      <td>113036.000000</td>\n",
              "      <td>113036.000000</td>\n",
              "      <td>113036.000000</td>\n",
              "      <td>113036.000000</td>\n",
              "      <td>113036.000000</td>\n",
              "      <td>113036.000000</td>\n",
              "      <td>113036.000000</td>\n",
              "    </tr>\n",
              "    <tr>\n",
              "      <th>mean</th>\n",
              "      <td>15.665753</td>\n",
              "      <td>2014.401739</td>\n",
              "      <td>35.919212</td>\n",
              "      <td>11.901660</td>\n",
              "      <td>267.296366</td>\n",
              "      <td>452.938427</td>\n",
              "      <td>285.051665</td>\n",
              "      <td>469.318695</td>\n",
              "      <td>754.370360</td>\n",
              "    </tr>\n",
              "    <tr>\n",
              "      <th>std</th>\n",
              "      <td>8.781567</td>\n",
              "      <td>1.272510</td>\n",
              "      <td>11.021936</td>\n",
              "      <td>9.561857</td>\n",
              "      <td>549.835483</td>\n",
              "      <td>922.071219</td>\n",
              "      <td>453.887443</td>\n",
              "      <td>884.866118</td>\n",
              "      <td>1309.094674</td>\n",
              "    </tr>\n",
              "    <tr>\n",
              "      <th>min</th>\n",
              "      <td>1.000000</td>\n",
              "      <td>2011.000000</td>\n",
              "      <td>17.000000</td>\n",
              "      <td>1.000000</td>\n",
              "      <td>1.000000</td>\n",
              "      <td>2.000000</td>\n",
              "      <td>-30.000000</td>\n",
              "      <td>1.000000</td>\n",
              "      <td>2.000000</td>\n",
              "    </tr>\n",
              "    <tr>\n",
              "      <th>25%</th>\n",
              "      <td>8.000000</td>\n",
              "      <td>2013.000000</td>\n",
              "      <td>28.000000</td>\n",
              "      <td>2.000000</td>\n",
              "      <td>2.000000</td>\n",
              "      <td>5.000000</td>\n",
              "      <td>29.000000</td>\n",
              "      <td>28.000000</td>\n",
              "      <td>63.000000</td>\n",
              "    </tr>\n",
              "    <tr>\n",
              "      <th>50%</th>\n",
              "      <td>16.000000</td>\n",
              "      <td>2014.000000</td>\n",
              "      <td>35.000000</td>\n",
              "      <td>10.000000</td>\n",
              "      <td>9.000000</td>\n",
              "      <td>24.000000</td>\n",
              "      <td>101.000000</td>\n",
              "      <td>108.000000</td>\n",
              "      <td>223.000000</td>\n",
              "    </tr>\n",
              "    <tr>\n",
              "      <th>75%</th>\n",
              "      <td>23.000000</td>\n",
              "      <td>2016.000000</td>\n",
              "      <td>43.000000</td>\n",
              "      <td>20.000000</td>\n",
              "      <td>42.000000</td>\n",
              "      <td>70.000000</td>\n",
              "      <td>358.000000</td>\n",
              "      <td>432.000000</td>\n",
              "      <td>800.000000</td>\n",
              "    </tr>\n",
              "    <tr>\n",
              "      <th>max</th>\n",
              "      <td>31.000000</td>\n",
              "      <td>2016.000000</td>\n",
              "      <td>87.000000</td>\n",
              "      <td>32.000000</td>\n",
              "      <td>2171.000000</td>\n",
              "      <td>3578.000000</td>\n",
              "      <td>15096.000000</td>\n",
              "      <td>42978.000000</td>\n",
              "      <td>58074.000000</td>\n",
              "    </tr>\n",
              "  </tbody>\n",
              "</table>\n",
              "</div>"
            ],
            "text/plain": [
              "                 Day           Year   Customer_Age  Order_Quantity  \\\n",
              "count  113036.000000  113036.000000  113036.000000   113036.000000   \n",
              "mean       15.665753    2014.401739      35.919212       11.901660   \n",
              "std         8.781567       1.272510      11.021936        9.561857   \n",
              "min         1.000000    2011.000000      17.000000        1.000000   \n",
              "25%         8.000000    2013.000000      28.000000        2.000000   \n",
              "50%        16.000000    2014.000000      35.000000       10.000000   \n",
              "75%        23.000000    2016.000000      43.000000       20.000000   \n",
              "max        31.000000    2016.000000      87.000000       32.000000   \n",
              "\n",
              "           Unit_Cost     Unit_Price         Profit           Cost  \\\n",
              "count  113036.000000  113036.000000  113036.000000  113036.000000   \n",
              "mean      267.296366     452.938427     285.051665     469.318695   \n",
              "std       549.835483     922.071219     453.887443     884.866118   \n",
              "min         1.000000       2.000000     -30.000000       1.000000   \n",
              "25%         2.000000       5.000000      29.000000      28.000000   \n",
              "50%         9.000000      24.000000     101.000000     108.000000   \n",
              "75%        42.000000      70.000000     358.000000     432.000000   \n",
              "max      2171.000000    3578.000000   15096.000000   42978.000000   \n",
              "\n",
              "             Revenue  \n",
              "count  113036.000000  \n",
              "mean      754.370360  \n",
              "std      1309.094674  \n",
              "min         2.000000  \n",
              "25%        63.000000  \n",
              "50%       223.000000  \n",
              "75%       800.000000  \n",
              "max     58074.000000  "
            ]
          },
          "execution_count": 13,
          "metadata": {},
          "output_type": "execute_result"
        }
      ],
      "source": [
        "sales_info.describe()"
      ]
    },
    {
      "cell_type": "code",
      "execution_count": 14,
      "metadata": {
        "id": "5eZ03aYotGyr"
      },
      "outputs": [
        {
          "data": {
            "text/plain": [
              "<Axes: >"
            ]
          },
          "execution_count": 14,
          "metadata": {},
          "output_type": "execute_result"
        },
        {
          "data": {
            "image/png": "[encoded data removed]",
            "text/plain": [
              "<Figure size 640x480 with 1 Axes>"
            ]
          },
          "metadata": {},
          "output_type": "display_data"
        }
      ],
      "source": [
        "sales_info['Customer_Age'].head(10).plot(kind='bar')"
      ]
    },
    {
      "cell_type": "code",
      "execution_count": null,
      "metadata": {
        "id": "1x0shoojOBhp"
      },
      "outputs": [],
      "source": [
        "sales_info['Customer_Age'].mean()"
      ]
    },
    {
      "cell_type": "markdown",
      "metadata": {
        "id": "fd6NTQhrhrB_"
      },
      "source": [
        " Show a density (KDE) and a box plot with the Customer_Age data:"
      ]
    },
    {
      "cell_type": "code",
      "execution_count": null,
      "metadata": {
        "id": "ANeGnjHxONAS"
      },
      "outputs": [],
      "source": [
        "sales_info['Customer_Age'].plot(kind='kde', figsize=(14,6))"
      ]
    },
    {
      "cell_type": "markdown",
      "metadata": {
        "id": "UG4vzBCUwBOf"
      },
      "source": [
        "‘bar’ or ‘barh’ for bar plots \\\\\n",
        "‘hist’ for histogram \\\\\n",
        "‘box’ for boxplot \\\\\n",
        "‘kde’ or 'density' for density plots \\\\\n",
        "‘area’ for area plots \\\\\n",
        "‘scatter’ for scatter plots \\\\\n",
        "‘hexbin’ for hexagonal bin plots \\\\\n",
        "‘pie’ for pie plots"
      ]
    },
    {
      "cell_type": "markdown",
      "metadata": {
        "id": "WRC6fzO8kIsA"
      },
      "source": [
        "Box plot with the Customer_Age data:\n",
        "\n"
      ]
    },
    {
      "cell_type": "code",
      "execution_count": null,
      "metadata": {
        "id": "3I-YvcB9kKdQ"
      },
      "outputs": [],
      "source": [
        "sales_info['Customer_Age'].plot(kind='box', figsize=(14,6))"
      ]
    },
    {
      "cell_type": "code",
      "execution_count": null,
      "metadata": {
        "id": "KrN5cx7PbEWw"
      },
      "outputs": [],
      "source": [
        "sales_info['Customer_Age'].describe()"
      ]
    },
    {
      "cell_type": "code",
      "execution_count": 17,
      "metadata": {
        "id": "a185fKZIQgZV"
      },
      "outputs": [
        {
          "data": {
            "text/plain": [
              "<Axes: >"
            ]
          },
          "execution_count": 17,
          "metadata": {},
          "output_type": "execute_result"
        },
        {
          "data": {
            "image/png": "[encoded data removed]",
            "text/plain": [
              "<Figure size 600x600 with 1 Axes>"
            ]
          },
          "metadata": {},
          "output_type": "display_data"
        }
      ],
      "source": [
        "sales_info['Customer_Age'].plot(kind='box',vert=True, figsize=(6,6))"
      ]
    },
    {
      "cell_type": "markdown",
      "metadata": {
        "id": "XBZS80x7ut5I"
      },
      "source": [
        "Calculate the mean and show a histogram and a box plot with the Order_Quantity data:"
      ]
    },
    {
      "cell_type": "code",
      "execution_count": null,
      "metadata": {
        "id": "M71ndb1Nvekf"
      },
      "outputs": [],
      "source": [
        "# Mean?\n",
        "sales_info['Order_Quantity'].plot(kind='hist', bins=30, figsize=(14,6))"
      ]
    },
    {
      "cell_type": "code",
      "execution_count": null,
      "metadata": {
        "id": "_nNvWSSdvxUg"
      },
      "outputs": [],
      "source": [
        "sales_info['Order_Quantity'].plot(kind='box', vert=False)\n",
        "# sales_info['Order_Quantity'].plot(kind='box', vert=False, figsize=(14,6))"
      ]
    },
    {
      "cell_type": "code",
      "execution_count": null,
      "metadata": {
        "id": "K7205Dzeu8eb"
      },
      "outputs": [],
      "source": [
        "sales_info.columns"
      ]
    },
    {
      "cell_type": "markdown",
      "metadata": {
        "id": "dQWOPGk3utAB"
      },
      "source": [
        "How many sales per year do we have?"
      ]
    },
    {
      "cell_type": "code",
      "execution_count": 18,
      "metadata": {
        "id": "nE2-pyTpxI7G"
      },
      "outputs": [
        {
          "data": {
            "text/plain": [
              "Year\n",
              "2014    29398\n",
              "2016    29398\n",
              "2013    24443\n",
              "2015    24443\n",
              "2012     2677\n",
              "2011     2677\n",
              "Name: count, dtype: int64"
            ]
          },
          "execution_count": 18,
          "metadata": {},
          "output_type": "execute_result"
        }
      ],
      "source": [
        "sales_info['Year'].value_counts()"
      ]
    },
    {
      "cell_type": "markdown",
      "metadata": {
        "id": "TfxAKHTbxvMR"
      },
      "source": [
        "Show a pie plot with the previous data:"
      ]
    },
    {
      "cell_type": "code",
      "execution_count": 21,
      "metadata": {
        "id": "v9YQXd9Cxslo"
      },
      "outputs": [
        {
          "data": {
            "text/plain": [
              "<Axes: ylabel='count'>"
            ]
          },
          "execution_count": 21,
          "metadata": {},
          "output_type": "execute_result"
        },
        {
          "data": {
            "image/png": "[encoded data removed]",
            "text/plain": [
              "<Figure size 640x480 with 1 Axes>"
            ]
          },
          "metadata": {},
          "output_type": "display_data"
        }
      ],
      "source": [
        "sales_info['Year'].value_counts().plot(kind='pie')"
      ]
    },
    {
      "cell_type": "markdown",
      "metadata": {
        "id": "gVZIMq6QyN96"
      },
      "source": [
        "How many sales per month do we have?"
      ]
    },
    {
      "cell_type": "code",
      "execution_count": 22,
      "metadata": {
        "id": "XjptB62CcFde"
      },
      "outputs": [
        {
          "data": {
            "text/plain": [
              "Month\n",
              "June         11234\n",
              "December     11200\n",
              "May          11128\n",
              "April        10182\n",
              "March         9674\n",
              "January       9284\n",
              "February      9022\n",
              "October       8750\n",
              "November      8734\n",
              "August        8200\n",
              "September     8166\n",
              "July          7462\n",
              "Name: count, dtype: int64"
            ]
          },
          "execution_count": 22,
          "metadata": {},
          "output_type": "execute_result"
        }
      ],
      "source": [
        "sales_info['Month'].value_counts()"
      ]
    },
    {
      "cell_type": "markdown",
      "metadata": {
        "id": "eRNdSHZ0yN6y"
      },
      "source": [
        "show a bar plot with the previous data:"
      ]
    },
    {
      "cell_type": "code",
      "execution_count": null,
      "metadata": {
        "id": "7ISUakclOSBD"
      },
      "outputs": [],
      "source": [
        "sales_info['Month'].value_counts().plot(kind='bar')"
      ]
    },
    {
      "cell_type": "markdown",
      "metadata": {
        "id": "syYmUgnTzyzR"
      },
      "source": [
        "Which country has the most sales quantity of sales?"
      ]
    },
    {
      "cell_type": "code",
      "execution_count": 23,
      "metadata": {
        "colab": {
          "base_uri": "https://localhost:8080/"
        },
        "id": "GGi-4GCP4vL4",
        "outputId": "cff8f8df-9e99-494a-ac9e-7169b31891b9"
      },
      "outputs": [
        {
          "data": {
            "text/plain": [
              "Country\n",
              "United States    39206\n",
              "Name: count, dtype: int64"
            ]
          },
          "execution_count": 23,
          "metadata": {},
          "output_type": "execute_result"
        }
      ],
      "source": [
        "sales_info['Country'].value_counts().head(1)"
      ]
    },
    {
      "cell_type": "markdown",
      "metadata": {
        "id": "dOLjCWlZz0TY"
      },
      "source": [
        "show a bar plot of the sales per country:"
      ]
    },
    {
      "cell_type": "code",
      "execution_count": 24,
      "metadata": {
        "id": "r8GGN1hg6I6x"
      },
      "outputs": [
        {
          "data": {
            "text/plain": [
              "<Axes: xlabel='Country'>"
            ]
          },
          "execution_count": 24,
          "metadata": {},
          "output_type": "execute_result"
        },
        {
          "data": {
            "image/png": "[encoded data removed]",
            "text/plain": [
              "<Figure size 640x480 with 1 Axes>"
            ]
          },
          "metadata": {},
          "output_type": "display_data"
        }
      ],
      "source": [
        "sales_info['Country'].value_counts()\n",
        "sales_info['Country'].value_counts().plot(kind=\"bar\")"
      ]
    },
    {
      "cell_type": "markdown",
      "metadata": {
        "id": "_fsGOo6cz5Kg"
      },
      "source": [
        "Create a list of every product sold"
      ]
    },
    {
      "cell_type": "code",
      "execution_count": 25,
      "metadata": {
        "id": "xF_YH9066ZMa"
      },
      "outputs": [
        {
          "name": "stdout",
          "output_type": "stream",
          "text": [
            "Hitch Rack - 4-Bike\n",
            "All-Purpose Bike Stand\n",
            "Mountain Bottle Cage\n",
            "Water Bottle - 30 oz.\n",
            "Road Bottle Cage\n",
            "AWC Logo Cap\n",
            "Bike Wash - Dissolver\n",
            "Fender Set - Mountain\n",
            "Half-Finger Gloves, L\n",
            "Half-Finger Gloves, M\n",
            "Half-Finger Gloves, S\n",
            "Sport-100 Helmet, Black\n",
            "Sport-100 Helmet, Red\n",
            "Sport-100 Helmet, Blue\n",
            "Hydration Pack - 70 oz.\n",
            "Short-Sleeve Classic Jersey, XL\n",
            "Short-Sleeve Classic Jersey, L\n",
            "Short-Sleeve Classic Jersey, M\n",
            "Short-Sleeve Classic Jersey, S\n",
            "Long-Sleeve Logo Jersey, M\n",
            "Long-Sleeve Logo Jersey, XL\n",
            "Long-Sleeve Logo Jersey, L\n",
            "Long-Sleeve Logo Jersey, S\n",
            "Mountain-100 Silver, 38\n",
            "Mountain-100 Silver, 44\n",
            "Mountain-100 Black, 48\n",
            "Mountain-100 Silver, 48\n",
            "Mountain-100 Black, 38\n",
            "Mountain-200 Silver, 38\n",
            "Mountain-100 Black, 44\n",
            "Mountain-100 Silver, 42\n",
            "Mountain-200 Black, 46\n",
            "Mountain-200 Silver, 42\n",
            "Mountain-200 Silver, 46\n",
            "Mountain-200 Black, 38\n",
            "Mountain-100 Black, 42\n",
            "Mountain-200 Black, 42\n",
            "Mountain-400-W Silver, 46\n",
            "Mountain-500 Silver, 40\n",
            "Mountain-500 Silver, 44\n",
            "Mountain-500 Black, 48\n",
            "Mountain-500 Black, 40\n",
            "Mountain-400-W Silver, 42\n",
            "Mountain-500 Silver, 52\n",
            "Mountain-500 Black, 52\n",
            "Mountain-500 Silver, 42\n",
            "Mountain-500 Black, 44\n",
            "Mountain-500 Silver, 48\n",
            "Mountain-400-W Silver, 38\n",
            "Mountain-400-W Silver, 40\n",
            "Mountain-500 Black, 42\n",
            "Road-150 Red, 48\n",
            "Road-150 Red, 62\n",
            "Road-750 Black, 48\n",
            "Road-750 Black, 58\n",
            "Road-750 Black, 52\n",
            "Road-150 Red, 52\n",
            "Road-150 Red, 44\n",
            "Road-150 Red, 56\n",
            "Road-750 Black, 44\n",
            "Road-350-W Yellow, 40\n",
            "Road-350-W Yellow, 42\n",
            "Road-250 Black, 44\n",
            "Road-250 Black, 48\n",
            "Road-350-W Yellow, 48\n",
            "Road-550-W Yellow, 44\n",
            "Road-550-W Yellow, 38\n",
            "Road-250 Black, 52\n",
            "Road-550-W Yellow, 48\n",
            "Road-250 Red, 58\n",
            "Road-250 Black, 58\n",
            "Road-250 Red, 52\n",
            "Road-250 Red, 48\n",
            "Road-250 Red, 44\n",
            "Road-550-W Yellow, 42\n",
            "Road-550-W Yellow, 40\n",
            "Road-650 Red, 48\n",
            "Road-650 Red, 60\n",
            "Road-650 Black, 48\n",
            "Road-350-W Yellow, 44\n",
            "Road-650 Red, 52\n",
            "Road-650 Black, 44\n",
            "Road-650 Red, 62\n",
            "Road-650 Red, 58\n",
            "Road-650 Black, 60\n",
            "Road-650 Black, 58\n",
            "Road-650 Black, 52\n",
            "Road-650 Black, 62\n",
            "Road-650 Red, 44\n",
            "Women's Mountain Shorts, M\n",
            "Women's Mountain Shorts, S\n",
            "Women's Mountain Shorts, L\n",
            "Racing Socks, L\n",
            "Racing Socks, M\n",
            "Mountain Tire Tube\n",
            "Touring Tire Tube\n",
            "Patch Kit/8 Patches\n",
            "HL Mountain Tire\n",
            "LL Mountain Tire\n",
            "Road Tire Tube\n",
            "LL Road Tire\n",
            "Touring Tire\n",
            "ML Mountain Tire\n",
            "HL Road Tire\n",
            "ML Road Tire\n",
            "Touring-1000 Yellow, 50\n",
            "Touring-1000 Blue, 46\n",
            "Touring-1000 Yellow, 60\n",
            "Touring-1000 Blue, 50\n",
            "Touring-3000 Yellow, 50\n",
            "Touring-3000 Blue, 54\n",
            "Touring-3000 Blue, 58\n",
            "Touring-3000 Yellow, 44\n",
            "Touring-3000 Yellow, 54\n",
            "Touring-3000 Blue, 62\n",
            "Touring-3000 Blue, 44\n",
            "Touring-1000 Blue, 54\n",
            "Touring-1000 Yellow, 46\n",
            "Touring-1000 Blue, 60\n",
            "Touring-3000 Yellow, 62\n",
            "Touring-1000 Yellow, 54\n",
            "Touring-2000 Blue, 54\n",
            "Touring-3000 Blue, 50\n",
            "Touring-3000 Yellow, 58\n",
            "Touring-2000 Blue, 46\n",
            "Touring-2000 Blue, 50\n",
            "Touring-2000 Blue, 60\n",
            "Classic Vest, L\n",
            "Classic Vest, M\n",
            "Classic Vest, S\n"
          ]
        }
      ],
      "source": [
        "uni_prod=sales_info['Product'].unique()\n",
        "for val in uni_prod:\n",
        "  print(val)"
      ]
    },
    {
      "cell_type": "markdown",
      "metadata": {
        "id": "CF7Xhdsaz-AY"
      },
      "source": [
        "Create a bar plot showing the 10 most sold products (best sellers):"
      ]
    },
    {
      "cell_type": "code",
      "execution_count": 26,
      "metadata": {
        "id": "HlovuQdBTrvt"
      },
      "outputs": [
        {
          "data": {
            "text/plain": [
              "Product\n",
              "Water Bottle - 30 oz.      10794\n",
              "Patch Kit/8 Patches        10416\n",
              "Mountain Tire Tube          6816\n",
              "AWC Logo Cap                4358\n",
              "Sport-100 Helmet, Red       4220\n",
              "                           ...  \n",
              "Mountain-100 Silver, 48       58\n",
              "Mountain-100 Silver, 42       54\n",
              "Mountain-500 Silver, 48       40\n",
              "Road-650 Red, 52              32\n",
              "Mountain-500 Black, 52        22\n",
              "Name: count, Length: 130, dtype: int64"
            ]
          },
          "execution_count": 26,
          "metadata": {},
          "output_type": "execute_result"
        }
      ],
      "source": [
        "sales_info['Product'].value_counts()\n"
      ]
    },
    {
      "cell_type": "code",
      "execution_count": null,
      "metadata": {
        "id": "g11aQArC6tyT"
      },
      "outputs": [],
      "source": [
        "sales_info['Product'].value_counts().head(10).plot(kind=\"bar\")"
      ]
    },
    {
      "cell_type": "markdown",
      "metadata": {
        "id": "VqmV4lg50A0I"
      },
      "source": [
        "Can you see any relationship between Unit_Cost and Unit_Price? \\\\\n",
        "Show a scatter plot between both columns."
      ]
    },
    {
      "cell_type": "code",
      "execution_count": 27,
      "metadata": {
        "id": "JCsqpHKv67HC"
      },
      "outputs": [
        {
          "data": {
            "text/plain": [
              "<Axes: xlabel='Unit_Cost', ylabel='Unit_Price'>"
            ]
          },
          "execution_count": 27,
          "metadata": {},
          "output_type": "execute_result"
        },
        {
          "data": {
            "image/png": "[encoded data removed]",
            "text/plain": [
              "<Figure size 600x600 with 1 Axes>"
            ]
          },
          "metadata": {},
          "output_type": "display_data"
        }
      ],
      "source": [
        "sales_info.plot(kind='scatter', x='Unit_Cost', y='Unit_Price', figsize=(6,6))"
      ]
    },
    {
      "cell_type": "markdown",
      "metadata": {
        "id": "SJR3tyZL0H7J"
      },
      "source": [
        "Can you see any relationship between Order_Quantity and Profit? \\\\\n",
        "Show a scatter plot between both columns."
      ]
    },
    {
      "cell_type": "code",
      "execution_count": 28,
      "metadata": {
        "id": "VUnV9tbP7Pdx"
      },
      "outputs": [
        {
          "data": {
            "text/plain": [
              "<Axes: xlabel='Order_Quantity', ylabel='Profit'>"
            ]
          },
          "execution_count": 28,
          "metadata": {},
          "output_type": "execute_result"
        },
        {
          "data": {
            "image/png": "[encoded data removed]",
            "text/plain": [
              "<Figure size 640x480 with 1 Axes>"
            ]
          },
          "metadata": {},
          "output_type": "display_data"
        }
      ],
      "source": [
        "sales_info.plot(kind='scatter',x='Order_Quantity', y='Profit',)"
      ]
    },
    {
      "cell_type": "markdown",
      "metadata": {
        "id": "4EmHcCg10LaI"
      },
      "source": [
        "Can you see any relationship between Profit per Country? \\\\\n",
        "Show a grouped box plot per country with the profit values."
      ]
    },
    {
      "cell_type": "code",
      "execution_count": 29,
      "metadata": {
        "id": "-7VQMwDz7FFy"
      },
      "outputs": [
        {
          "data": {
            "text/plain": [
              "<Axes: title={'center': 'Profit'}, xlabel='[Country]'>"
            ]
          },
          "execution_count": 29,
          "metadata": {},
          "output_type": "execute_result"
        },
        {
          "data": {
            "image/png": "[encoded data removed]",
            "text/plain": [
              "<Figure size 1000x600 with 1 Axes>"
            ]
          },
          "metadata": {},
          "output_type": "display_data"
        }
      ],
      "source": [
        "sales_info[['Profit', 'Country']].boxplot(by='Country', figsize=(10,6))"
      ]
    },
    {
      "cell_type": "markdown",
      "metadata": {
        "id": "XVvc31QF0OtC"
      },
      "source": [
        "Can you see any relationship between the Customer_Age per Country? \\\\\n",
        "Show a grouped box plot per country with the customer age values."
      ]
    },
    {
      "cell_type": "code",
      "execution_count": null,
      "metadata": {
        "id": "_dF_fMvw7lSS"
      },
      "outputs": [],
      "source": [
        "sales_info[['Customer_Age','Country']].boxplot(by='Country')"
      ]
    },
    {
      "cell_type": "code",
      "execution_count": 38,
      "metadata": {},
      "outputs": [
        {
          "data": {
            "text/html": [
              "<div>\n",
              "<style scoped>\n",
              "    .dataframe tbody tr th:only-of-type {\n",
              "        vertical-align: middle;\n",
              "    }\n",
              "\n",
              "    .dataframe tbody tr th {\n",
              "        vertical-align: top;\n",
              "    }\n",
              "\n",
              "    .dataframe thead th {\n",
              "        text-align: right;\n",
              "    }\n",
              "</style>\n",
              "<table border=\"1\" class=\"dataframe\">\n",
              "  <thead>\n",
              "    <tr style=\"text-align: right;\">\n",
              "      <th></th>\n",
              "      <th>Date</th>\n",
              "      <th>Day</th>\n",
              "      <th>Month</th>\n",
              "      <th>Year</th>\n",
              "      <th>Customer_Age</th>\n",
              "      <th>Age_Group</th>\n",
              "      <th>Customer_Gender</th>\n",
              "      <th>Country</th>\n",
              "      <th>State</th>\n",
              "      <th>Product_Category</th>\n",
              "      <th>Sub_Category</th>\n",
              "      <th>Product</th>\n",
              "      <th>Order_Quantity</th>\n",
              "      <th>Unit_Cost</th>\n",
              "      <th>Unit_Price</th>\n",
              "      <th>Profit</th>\n",
              "      <th>Cost</th>\n",
              "      <th>Revenue</th>\n",
              "    </tr>\n",
              "  </thead>\n",
              "  <tbody>\n",
              "    <tr>\n",
              "      <th>0</th>\n",
              "      <td>2013-11-26</td>\n",
              "      <td>26</td>\n",
              "      <td>November</td>\n",
              "      <td>2013</td>\n",
              "      <td>19</td>\n",
              "      <td>Youth (&lt;25)</td>\n",
              "      <td>M</td>\n",
              "      <td>Canada</td>\n",
              "      <td>British Columbia</td>\n",
              "      <td>Accessories</td>\n",
              "      <td>Bike Racks</td>\n",
              "      <td>Hitch Rack - 4-Bike</td>\n",
              "      <td>8</td>\n",
              "      <td>45</td>\n",
              "      <td>120</td>\n",
              "      <td>590</td>\n",
              "      <td>360</td>\n",
              "      <td>1000</td>\n",
              "    </tr>\n",
              "    <tr>\n",
              "      <th>1</th>\n",
              "      <td>2015-11-26</td>\n",
              "      <td>26</td>\n",
              "      <td>November</td>\n",
              "      <td>2015</td>\n",
              "      <td>19</td>\n",
              "      <td>Youth (&lt;25)</td>\n",
              "      <td>M</td>\n",
              "      <td>Canada</td>\n",
              "      <td>British Columbia</td>\n",
              "      <td>Accessories</td>\n",
              "      <td>Bike Racks</td>\n",
              "      <td>Hitch Rack - 4-Bike</td>\n",
              "      <td>8</td>\n",
              "      <td>45</td>\n",
              "      <td>120</td>\n",
              "      <td>590</td>\n",
              "      <td>360</td>\n",
              "      <td>1000</td>\n",
              "    </tr>\n",
              "    <tr>\n",
              "      <th>14</th>\n",
              "      <td>2013-08-02</td>\n",
              "      <td>2</td>\n",
              "      <td>August</td>\n",
              "      <td>2013</td>\n",
              "      <td>29</td>\n",
              "      <td>Young Adults (25-34)</td>\n",
              "      <td>M</td>\n",
              "      <td>Canada</td>\n",
              "      <td>British Columbia</td>\n",
              "      <td>Accessories</td>\n",
              "      <td>Bike Racks</td>\n",
              "      <td>Hitch Rack - 4-Bike</td>\n",
              "      <td>5</td>\n",
              "      <td>45</td>\n",
              "      <td>120</td>\n",
              "      <td>369</td>\n",
              "      <td>225</td>\n",
              "      <td>644</td>\n",
              "    </tr>\n",
              "    <tr>\n",
              "      <th>15</th>\n",
              "      <td>2015-08-02</td>\n",
              "      <td>2</td>\n",
              "      <td>August</td>\n",
              "      <td>2015</td>\n",
              "      <td>29</td>\n",
              "      <td>Young Adults (25-34)</td>\n",
              "      <td>M</td>\n",
              "      <td>Canada</td>\n",
              "      <td>British Columbia</td>\n",
              "      <td>Accessories</td>\n",
              "      <td>Bike Racks</td>\n",
              "      <td>Hitch Rack - 4-Bike</td>\n",
              "      <td>7</td>\n",
              "      <td>45</td>\n",
              "      <td>120</td>\n",
              "      <td>517</td>\n",
              "      <td>315</td>\n",
              "      <td>882</td>\n",
              "    </tr>\n",
              "    <tr>\n",
              "      <th>16</th>\n",
              "      <td>2013-09-02</td>\n",
              "      <td>2</td>\n",
              "      <td>September</td>\n",
              "      <td>2013</td>\n",
              "      <td>29</td>\n",
              "      <td>Young Adults (25-34)</td>\n",
              "      <td>M</td>\n",
              "      <td>Canada</td>\n",
              "      <td>British Columbia</td>\n",
              "      <td>Accessories</td>\n",
              "      <td>Bike Racks</td>\n",
              "      <td>Hitch Rack - 4-Bike</td>\n",
              "      <td>2</td>\n",
              "      <td>45</td>\n",
              "      <td>120</td>\n",
              "      <td>148</td>\n",
              "      <td>90</td>\n",
              "      <td>288</td>\n",
              "    </tr>\n",
              "    <tr>\n",
              "      <th>...</th>\n",
              "      <td>...</td>\n",
              "      <td>...</td>\n",
              "      <td>...</td>\n",
              "      <td>...</td>\n",
              "      <td>...</td>\n",
              "      <td>...</td>\n",
              "      <td>...</td>\n",
              "      <td>...</td>\n",
              "      <td>...</td>\n",
              "      <td>...</td>\n",
              "      <td>...</td>\n",
              "      <td>...</td>\n",
              "      <td>...</td>\n",
              "      <td>...</td>\n",
              "      <td>...</td>\n",
              "      <td>...</td>\n",
              "      <td>...</td>\n",
              "      <td>...</td>\n",
              "    </tr>\n",
              "    <tr>\n",
              "      <th>112885</th>\n",
              "      <td>2016-07-05</td>\n",
              "      <td>5</td>\n",
              "      <td>July</td>\n",
              "      <td>2016</td>\n",
              "      <td>38</td>\n",
              "      <td>Adults (35-64)</td>\n",
              "      <td>M</td>\n",
              "      <td>Canada</td>\n",
              "      <td>British Columbia</td>\n",
              "      <td>Clothing</td>\n",
              "      <td>Vests</td>\n",
              "      <td>Classic Vest, L</td>\n",
              "      <td>14</td>\n",
              "      <td>24</td>\n",
              "      <td>64</td>\n",
              "      <td>551</td>\n",
              "      <td>336</td>\n",
              "      <td>937</td>\n",
              "    </tr>\n",
              "    <tr>\n",
              "      <th>112952</th>\n",
              "      <td>2013-08-18</td>\n",
              "      <td>18</td>\n",
              "      <td>August</td>\n",
              "      <td>2013</td>\n",
              "      <td>31</td>\n",
              "      <td>Young Adults (25-34)</td>\n",
              "      <td>F</td>\n",
              "      <td>Canada</td>\n",
              "      <td>British Columbia</td>\n",
              "      <td>Clothing</td>\n",
              "      <td>Vests</td>\n",
              "      <td>Classic Vest, L</td>\n",
              "      <td>13</td>\n",
              "      <td>24</td>\n",
              "      <td>64</td>\n",
              "      <td>512</td>\n",
              "      <td>312</td>\n",
              "      <td>874</td>\n",
              "    </tr>\n",
              "    <tr>\n",
              "      <th>112953</th>\n",
              "      <td>2015-08-18</td>\n",
              "      <td>18</td>\n",
              "      <td>August</td>\n",
              "      <td>2015</td>\n",
              "      <td>31</td>\n",
              "      <td>Young Adults (25-34)</td>\n",
              "      <td>F</td>\n",
              "      <td>Canada</td>\n",
              "      <td>British Columbia</td>\n",
              "      <td>Clothing</td>\n",
              "      <td>Vests</td>\n",
              "      <td>Classic Vest, L</td>\n",
              "      <td>11</td>\n",
              "      <td>24</td>\n",
              "      <td>64</td>\n",
              "      <td>433</td>\n",
              "      <td>264</td>\n",
              "      <td>747</td>\n",
              "    </tr>\n",
              "    <tr>\n",
              "      <th>112954</th>\n",
              "      <td>2013-09-21</td>\n",
              "      <td>21</td>\n",
              "      <td>September</td>\n",
              "      <td>2013</td>\n",
              "      <td>31</td>\n",
              "      <td>Young Adults (25-34)</td>\n",
              "      <td>F</td>\n",
              "      <td>Canada</td>\n",
              "      <td>British Columbia</td>\n",
              "      <td>Clothing</td>\n",
              "      <td>Vests</td>\n",
              "      <td>Classic Vest, L</td>\n",
              "      <td>15</td>\n",
              "      <td>24</td>\n",
              "      <td>64</td>\n",
              "      <td>590</td>\n",
              "      <td>360</td>\n",
              "      <td>1000</td>\n",
              "    </tr>\n",
              "    <tr>\n",
              "      <th>112955</th>\n",
              "      <td>2015-09-21</td>\n",
              "      <td>21</td>\n",
              "      <td>September</td>\n",
              "      <td>2015</td>\n",
              "      <td>31</td>\n",
              "      <td>Young Adults (25-34)</td>\n",
              "      <td>F</td>\n",
              "      <td>Canada</td>\n",
              "      <td>British Columbia</td>\n",
              "      <td>Clothing</td>\n",
              "      <td>Vests</td>\n",
              "      <td>Classic Vest, L</td>\n",
              "      <td>16</td>\n",
              "      <td>24</td>\n",
              "      <td>64</td>\n",
              "      <td>630</td>\n",
              "      <td>384</td>\n",
              "      <td>1064</td>\n",
              "    </tr>\n",
              "  </tbody>\n",
              "</table>\n",
              "<p>14178 rows × 18 columns</p>\n",
              "</div>"
            ],
            "text/plain": [
              "              Date  Day      Month  Year  Customer_Age             Age_Group  \\\n",
              "0       2013-11-26   26   November  2013            19           Youth (<25)   \n",
              "1       2015-11-26   26   November  2015            19           Youth (<25)   \n",
              "14      2013-08-02    2     August  2013            29  Young Adults (25-34)   \n",
              "15      2015-08-02    2     August  2015            29  Young Adults (25-34)   \n",
              "16      2013-09-02    2  September  2013            29  Young Adults (25-34)   \n",
              "...            ...  ...        ...   ...           ...                   ...   \n",
              "112885  2016-07-05    5       July  2016            38        Adults (35-64)   \n",
              "112952  2013-08-18   18     August  2013            31  Young Adults (25-34)   \n",
              "112953  2015-08-18   18     August  2015            31  Young Adults (25-34)   \n",
              "112954  2013-09-21   21  September  2013            31  Young Adults (25-34)   \n",
              "112955  2015-09-21   21  September  2015            31  Young Adults (25-34)   \n",
              "\n",
              "       Customer_Gender Country             State Product_Category  \\\n",
              "0                    M  Canada  British Columbia      Accessories   \n",
              "1                    M  Canada  British Columbia      Accessories   \n",
              "14                   M  Canada  British Columbia      Accessories   \n",
              "15                   M  Canada  British Columbia      Accessories   \n",
              "16                   M  Canada  British Columbia      Accessories   \n",
              "...                ...     ...               ...              ...   \n",
              "112885               M  Canada  British Columbia         Clothing   \n",
              "112952               F  Canada  British Columbia         Clothing   \n",
              "112953               F  Canada  British Columbia         Clothing   \n",
              "112954               F  Canada  British Columbia         Clothing   \n",
              "112955               F  Canada  British Columbia         Clothing   \n",
              "\n",
              "       Sub_Category              Product  Order_Quantity  Unit_Cost  \\\n",
              "0        Bike Racks  Hitch Rack - 4-Bike               8         45   \n",
              "1        Bike Racks  Hitch Rack - 4-Bike               8         45   \n",
              "14       Bike Racks  Hitch Rack - 4-Bike               5         45   \n",
              "15       Bike Racks  Hitch Rack - 4-Bike               7         45   \n",
              "16       Bike Racks  Hitch Rack - 4-Bike               2         45   \n",
              "...             ...                  ...             ...        ...   \n",
              "112885        Vests      Classic Vest, L              14         24   \n",
              "112952        Vests      Classic Vest, L              13         24   \n",
              "112953        Vests      Classic Vest, L              11         24   \n",
              "112954        Vests      Classic Vest, L              15         24   \n",
              "112955        Vests      Classic Vest, L              16         24   \n",
              "\n",
              "        Unit_Price  Profit  Cost  Revenue  \n",
              "0              120     590   360     1000  \n",
              "1              120     590   360     1000  \n",
              "14             120     369   225      644  \n",
              "15             120     517   315      882  \n",
              "16             120     148    90      288  \n",
              "...            ...     ...   ...      ...  \n",
              "112885          64     551   336      937  \n",
              "112952          64     512   312      874  \n",
              "112953          64     433   264      747  \n",
              "112954          64     590   360     1000  \n",
              "112955          64     630   384     1064  \n",
              "\n",
              "[14178 rows x 18 columns]"
            ]
          },
          "execution_count": 38,
          "metadata": {},
          "output_type": "execute_result"
        }
      ],
      "source": [
        "sales_info.loc[(sales_info['Country']=='Canada')]"
      ]
    },
    {
      "cell_type": "markdown",
      "metadata": {
        "id": "VWvWXpvW0e4Q"
      },
      "source": [
        "Increase 50 U$S revenue to every sale"
      ]
    },
    {
      "cell_type": "code",
      "execution_count": 30,
      "metadata": {
        "id": "NEuBe0P8-IwK"
      },
      "outputs": [],
      "source": [
        "sales_info['Revenue'] += 50"
      ]
    },
    {
      "cell_type": "markdown",
      "metadata": {
        "id": "YX4KVCEI0oHA"
      },
      "source": [
        "How many orders were made in Canada or France?"
      ]
    },
    {
      "cell_type": "code",
      "execution_count": 39,
      "metadata": {
        "colab": {
          "base_uri": "https://localhost:8080/"
        },
        "id": "gY6CevdRWtLn",
        "outputId": "739e56a6-50ce-46a3-e939-7dd1b2c28210"
      },
      "outputs": [
        {
          "data": {
            "text/plain": [
              "25176"
            ]
          },
          "execution_count": 39,
          "metadata": {},
          "output_type": "execute_result"
        }
      ],
      "source": [
        "data=sales_info.loc[(sales_info['Country']== 'Canada')|(sales_info['Country']== 'France')]\n",
        "data['Country'].count()"
      ]
    },
    {
      "cell_type": "code",
      "execution_count": null,
      "metadata": {
        "colab": {
          "base_uri": "https://localhost:8080/"
        },
        "id": "FSZ28867W69_",
        "outputId": "139457ef-472a-459a-ecb1-c8a91aeb3f5b"
      },
      "outputs": [
        {
          "data": {
            "text/plain": [
              "False    102038\n",
              "True      10998\n",
              "Name: Country, dtype: int64"
            ]
          },
          "execution_count": 18,
          "metadata": {},
          "output_type": "execute_result"
        }
      ],
      "source": [
        "(sales_info['Country'] == 'France').value_counts()"
      ]
    },
    {
      "cell_type": "markdown",
      "metadata": {
        "id": "WHICXg6lWxBu"
      },
      "source": [
        "Selection & Indexing:"
      ]
    },
    {
      "cell_type": "code",
      "execution_count": null,
      "metadata": {
        "id": "5icrUhJLWylW"
      },
      "outputs": [],
      "source": [
        "sales_info.loc[(sales_info['Country'] == 'Canada')]"
      ]
    },
    {
      "cell_type": "code",
      "execution_count": 40,
      "metadata": {
        "colab": {
          "base_uri": "https://localhost:8080/"
        },
        "id": "VWDwYzxb-O-D",
        "outputId": "f4287ca4-6312-4fdd-f6f4-5594278a9afb"
      },
      "outputs": [
        {
          "data": {
            "text/plain": [
              "25176"
            ]
          },
          "execution_count": 40,
          "metadata": {},
          "output_type": "execute_result"
        }
      ],
      "source": [
        "sales_info.loc[(sales_info['Country'] == 'Canada') | (sales_info['Country'] == 'France')].shape[0]"
      ]
    },
    {
      "cell_type": "markdown",
      "metadata": {
        "id": "ita3QkTe0o9I"
      },
      "source": [
        "How many Bike Racks orders were made from Canada?"
      ]
    },
    {
      "cell_type": "code",
      "execution_count": 41,
      "metadata": {
        "colab": {
          "base_uri": "https://localhost:8080/"
        },
        "id": "PujhTZmJ-mZ-",
        "outputId": "95d0e55f-4446-4d21-b017-041c7d9519f3"
      },
      "outputs": [
        {
          "data": {
            "text/plain": [
              "104"
            ]
          },
          "execution_count": 41,
          "metadata": {},
          "output_type": "execute_result"
        }
      ],
      "source": [
        "sales_info.loc[(sales_info['Country'] == 'Canada') & (sales_info['Sub_Category'] == 'Bike Racks')].shape[0]"
      ]
    },
    {
      "cell_type": "markdown",
      "metadata": {
        "id": "m3L5B8dR0ryY"
      },
      "source": [
        "How many orders were made in each region (state) of France?"
      ]
    },
    {
      "cell_type": "code",
      "execution_count": 44,
      "metadata": {
        "id": "8Nxceopi_GfJ"
      },
      "outputs": [
        {
          "data": {
            "text/plain": [
              "State\n",
              "Seine (Paris)        2328\n",
              "Seine Saint Denis    1684\n",
              "Nord                 1670\n",
              "Hauts de Seine       1084\n",
              "Essonne               994\n",
              "Yveline               954\n",
              "Seine et Marne        394\n",
              "Moselle               386\n",
              "Loiret                382\n",
              "Val d'Oise            264\n",
              "Garonne (Haute)       208\n",
              "Val de Marne          158\n",
              "Charente-Maritime     148\n",
              "Somme                 134\n",
              "Loir et Cher          120\n",
              "Pas de Calais          90\n",
              "Name: count, dtype: int64"
            ]
          },
          "execution_count": 44,
          "metadata": {},
          "output_type": "execute_result"
        }
      ],
      "source": [
        "sales_info.loc[(sales_info['Country'] == 'France','State')].value_counts()"
      ]
    },
    {
      "cell_type": "markdown",
      "metadata": {
        "id": "MDAsV5Ik0v6Y"
      },
      "source": [
        "Go ahead and show a bar plot with the results:"
      ]
    },
    {
      "cell_type": "code",
      "execution_count": 46,
      "metadata": {},
      "outputs": [
        {
          "data": {
            "text/plain": [
              "State\n",
              "Seine (Paris)        2328\n",
              "Seine Saint Denis    1684\n",
              "Nord                 1670\n",
              "Hauts de Seine       1084\n",
              "Essonne               994\n",
              "Yveline               954\n",
              "Seine et Marne        394\n",
              "Moselle               386\n",
              "Loiret                382\n",
              "Val d'Oise            264\n",
              "Garonne (Haute)       208\n",
              "Val de Marne          158\n",
              "Charente-Maritime     148\n",
              "Somme                 134\n",
              "Loir et Cher          120\n",
              "Pas de Calais          90\n",
              "Name: count, dtype: int64"
            ]
          },
          "execution_count": 46,
          "metadata": {},
          "output_type": "execute_result"
        }
      ],
      "source": [
        "a=sales_info.loc[(sales_info['Country'] == 'France')]\n",
        "a['State'].value_counts()"
      ]
    },
    {
      "cell_type": "code",
      "execution_count": null,
      "metadata": {
        "id": "VqcJqL9S_djX"
      },
      "outputs": [],
      "source": [
        "sales_info.loc[(sales_info['Country'] == 'France','State')].value_counts().plot(kind='bar')"
      ]
    },
    {
      "cell_type": "markdown",
      "metadata": {
        "id": "cT2Ycdr9ztsy"
      },
      "source": [
        "#Quiz"
      ]
    },
    {
      "cell_type": "markdown",
      "metadata": {
        "id": "ccJz2zw60ynP"
      },
      "source": [
        "How many sales were made per category? \\\\\n",
        "show a pie plot with the results:"
      ]
    },
    {
      "cell_type": "code",
      "execution_count": null,
      "metadata": {
        "id": "b4Dp1rzm_mHG"
      },
      "outputs": [],
      "source": [
        "sales_info['Product_Category'].value_counts()\n",
        "sales_info['Product_Category'].value_counts().plot(kind='pie', figsize=(6,6))"
      ]
    },
    {
      "cell_type": "markdown",
      "metadata": {
        "id": "5KllJA3b3dXI"
      },
      "source": [
        "How many orders were made per accessory sub-categories? \\\\\n",
        " show a bar plot with the results:"
      ]
    },
    {
      "cell_type": "code",
      "execution_count": 47,
      "metadata": {
        "id": "Z-xiyiDrAc9C"
      },
      "outputs": [
        {
          "data": {
            "text/plain": [
              "Date        Day  Month      Year  Customer_Age  Age_Group             Customer_Gender  Country        State              Product_Category  Sub_Category       Product                Order_Quantity  Unit_Cost  Unit_Price  Profit  Cost  Revenue\n",
              "2015-11-19  19   November   2015  41            Adults (35-64)        M                United States  California         Accessories       Tires and Tubes    Patch Kit/8 Patches    18              1          2           17      18    85         3\n",
              "2013-09-15  15   September  2013  27            Young Adults (25-34)  F                Canada         British Columbia   Accessories       Tires and Tubes    Patch Kit/8 Patches    16              1          2           16      16    82         3\n",
              "2015-11-24  24   November   2015  41            Adults (35-64)        M                United States  California         Accessories       Tires and Tubes    Patch Kit/8 Patches    8               1          2           8       8     66         3\n",
              "2016-03-29  29   March      2016  33            Young Adults (25-34)  F                Canada         British Columbia   Accessories       Tires and Tubes    Mountain Tire Tube     24              2          5           71      48    169        3\n",
              "2013-11-22  22   November   2013  31            Young Adults (25-34)  F                Canada         British Columbia   Accessories       Bottles and Cages  Water Bottle - 30 oz.  22              2          5           65      44    159        3\n",
              "                                                                                                                                                                                                                                                    ..\n",
              "2014-03-29  29   March      2014  52            Adults (35-64)        M                United States  California         Accessories       Tires and Tubes    LL Mountain Tire       15              9          25          233     135   418        1\n",
              "                                  54            Adults (35-64)        M                France         Seine Saint Denis  Accessories       Bottles and Cages  Water Bottle - 30 oz.  21              2          5           44      42    136        1\n",
              "                                                                                                                                                                                     26              2          5           55      52    157        1\n",
              "                                                                                                                                           Tires and Tubes    ML Mountain Tire       24              11         30          326     264   640        1\n",
              "2016-07-31  31   July       2016  58            Adults (35-64)        F                Canada         British Columbia   Accessories       Tires and Tubes    Patch Kit/8 Patches    32              1          2           31      32    113        1\n",
              "Name: count, Length: 69312, dtype: int64"
            ]
          },
          "execution_count": 47,
          "metadata": {},
          "output_type": "execute_result"
        }
      ],
      "source": [
        "accessories = sales_info.loc[sales_info['Product_Category'] == 'Accessories'].value_counts()\n",
        "accessories"
      ]
    },
    {
      "cell_type": "code",
      "execution_count": null,
      "metadata": {
        "id": "36WLAFQLALUq"
      },
      "outputs": [],
      "source": [
        "accessories = sales_info.loc[sales_info['Product_Category'] == 'Accessories', 'Sub_Category'].value_counts()\n",
        "accessories"
      ]
    },
    {
      "cell_type": "markdown",
      "metadata": {
        "id": "AMi_LYqC3lM-"
      },
      "source": [
        "How many orders were made per bike sub-categories? \\\\\n",
        "Pie plot"
      ]
    },
    {
      "cell_type": "code",
      "execution_count": null,
      "metadata": {
        "id": "TI5dDeIaAtRM"
      },
      "outputs": [],
      "source": [
        "bikes = sales_info.loc[sales_info['Product_Category'] == 'Bikes', 'Sub_Category'].value_counts()\n",
        "bikes"
      ]
    },
    {
      "cell_type": "markdown",
      "metadata": {
        "id": "eAotgF7431GG"
      },
      "source": [
        "Which gender has the most amount of sales?"
      ]
    },
    {
      "cell_type": "code",
      "execution_count": null,
      "metadata": {
        "id": "sYTaAApuBvi1"
      },
      "outputs": [],
      "source": [
        "sales_info['Customer_Gender'].value_counts()"
      ]
    },
    {
      "cell_type": "code",
      "execution_count": null,
      "metadata": {
        "id": "IkLXvIcCX8jP"
      },
      "outputs": [],
      "source": [
        "sales_info['Customer_Gender'].value_counts().head(1)"
      ]
    },
    {
      "cell_type": "code",
      "execution_count": null,
      "metadata": {
        "id": "nOQIQ_jnBQ4L"
      },
      "outputs": [],
      "source": [
        "sales_info['Customer_Gender'].value_counts().plot(kind='bar')\n"
      ]
    },
    {
      "cell_type": "markdown",
      "metadata": {
        "id": "xGY5UoQD3X3R"
      },
      "source": [
        "How many sales with more than 500 in Revenue were made by men?"
      ]
    },
    {
      "cell_type": "code",
      "execution_count": null,
      "metadata": {
        "id": "9huA3Lp7B1nT"
      },
      "outputs": [],
      "source": [
        "sales_info.loc[(sales_info['Customer_Gender']=='M') & (sales_info['Revenue'] >= 500)].shape[0]"
      ]
    },
    {
      "cell_type": "code",
      "execution_count": null,
      "metadata": {
        "colab": {
          "base_uri": "https://localhost:8080/"
        },
        "id": "xPA-ybdiCCkg",
        "outputId": "a6fa1088-fec9-482c-a734-3605b58691cb"
      },
      "outputs": [
        {
          "name": "stdout",
          "output_type": "stream",
          "text": [
            "Date\n",
            "Day\n",
            "Month\n",
            "Year\n",
            "Customer_Age\n",
            "Age_Group\n",
            "Customer_Gender\n",
            "Country\n",
            "State\n",
            "Product_Category\n",
            "Sub_Category\n",
            "Product\n",
            "Order_Quantity\n",
            "Unit_Cost\n",
            "Unit_Price\n",
            "Profit\n",
            "Cost\n",
            "Revenue\n",
            "Calculated_Date\n"
          ]
        }
      ],
      "source": [
        "for col in sales_info.columns:\n",
        "    print(col)"
      ]
    },
    {
      "cell_type": "markdown",
      "metadata": {
        "id": "SH4sdKYz39ct"
      },
      "source": [
        "Get the top-5 sales with the highest revenue"
      ]
    },
    {
      "cell_type": "code",
      "execution_count": null,
      "metadata": {
        "id": "YH1tZNRlCzUb"
      },
      "outputs": [],
      "source": [
        "sales_info.sort_values(['Revenue'], ascending=False).head(5)"
      ]
    },
    {
      "cell_type": "markdown",
      "metadata": {
        "id": "OZl8JJdh4ANt"
      },
      "source": [
        "Get the sale with the highest revenue"
      ]
    },
    {
      "cell_type": "code",
      "execution_count": 52,
      "metadata": {
        "id": "v1LN9aYJZodZ"
      },
      "outputs": [
        {
          "data": {
            "text/html": [
              "<div>\n",
              "<style scoped>\n",
              "    .dataframe tbody tr th:only-of-type {\n",
              "        vertical-align: middle;\n",
              "    }\n",
              "\n",
              "    .dataframe tbody tr th {\n",
              "        vertical-align: top;\n",
              "    }\n",
              "\n",
              "    .dataframe thead th {\n",
              "        text-align: right;\n",
              "    }\n",
              "</style>\n",
              "<table border=\"1\" class=\"dataframe\">\n",
              "  <thead>\n",
              "    <tr style=\"text-align: right;\">\n",
              "      <th></th>\n",
              "      <th>Date</th>\n",
              "      <th>Day</th>\n",
              "      <th>Month</th>\n",
              "      <th>Year</th>\n",
              "      <th>Customer_Age</th>\n",
              "      <th>Age_Group</th>\n",
              "      <th>Customer_Gender</th>\n",
              "      <th>Country</th>\n",
              "      <th>State</th>\n",
              "      <th>Product_Category</th>\n",
              "      <th>Sub_Category</th>\n",
              "      <th>Product</th>\n",
              "      <th>Order_Quantity</th>\n",
              "      <th>Unit_Cost</th>\n",
              "      <th>Unit_Price</th>\n",
              "      <th>Profit</th>\n",
              "      <th>Cost</th>\n",
              "      <th>Revenue</th>\n",
              "    </tr>\n",
              "  </thead>\n",
              "  <tbody>\n",
              "    <tr>\n",
              "      <th>112073</th>\n",
              "      <td>2015-07-24</td>\n",
              "      <td>24</td>\n",
              "      <td>July</td>\n",
              "      <td>2015</td>\n",
              "      <td>52</td>\n",
              "      <td>Adults (35-64)</td>\n",
              "      <td>M</td>\n",
              "      <td>Australia</td>\n",
              "      <td>Queensland</td>\n",
              "      <td>Clothing</td>\n",
              "      <td>Vests</td>\n",
              "      <td>Touring-1000 Yellow, 50</td>\n",
              "      <td>29</td>\n",
              "      <td>1482</td>\n",
              "      <td>2384</td>\n",
              "      <td>15096</td>\n",
              "      <td>42978</td>\n",
              "      <td>58124</td>\n",
              "    </tr>\n",
              "  </tbody>\n",
              "</table>\n",
              "</div>"
            ],
            "text/plain": [
              "              Date  Day Month  Year  Customer_Age       Age_Group  \\\n",
              "112073  2015-07-24   24  July  2015            52  Adults (35-64)   \n",
              "\n",
              "       Customer_Gender    Country       State Product_Category Sub_Category  \\\n",
              "112073               M  Australia  Queensland         Clothing        Vests   \n",
              "\n",
              "                        Product  Order_Quantity  Unit_Cost  Unit_Price  \\\n",
              "112073  Touring-1000 Yellow, 50              29       1482        2384   \n",
              "\n",
              "        Profit   Cost  Revenue  \n",
              "112073   15096  42978    58124  "
            ]
          },
          "execution_count": 52,
          "metadata": {},
          "output_type": "execute_result"
        }
      ],
      "source": [
        "sales_info.sort_values(by='Revenue', ascending=False).head(1)"
      ]
    },
    {
      "cell_type": "code",
      "execution_count": null,
      "metadata": {
        "id": "bj9K-5zhaUf_"
      },
      "outputs": [],
      "source": [
        "cond = sales_info['Revenue'] == sales_info['Revenue'].max()\n",
        "\n",
        "sales_info.loc[cond]"
      ]
    },
    {
      "cell_type": "markdown",
      "metadata": {
        "id": "o66nMOHE4FKI"
      },
      "source": [
        "What is the mean Order_Quantity of orders with more than 10K in revenue?"
      ]
    },
    {
      "cell_type": "code",
      "execution_count": null,
      "metadata": {
        "id": "Ek2EO4UHZqL9"
      },
      "outputs": [],
      "source": [
        "sales_info.loc[(sales_info['Revenue'] >= 10000)]['Order_Quantity'].mean()\n"
      ]
    },
    {
      "cell_type": "code",
      "execution_count": 49,
      "metadata": {
        "id": "7n_kfCR_ahW2"
      },
      "outputs": [
        {
          "data": {
            "text/plain": [
              "0         False\n",
              "1         False\n",
              "2         False\n",
              "3         False\n",
              "4         False\n",
              "          ...  \n",
              "113031    False\n",
              "113032    False\n",
              "113033    False\n",
              "113034    False\n",
              "113035    False\n",
              "Name: Revenue, Length: 113036, dtype: bool"
            ]
          },
          "execution_count": 49,
          "metadata": {},
          "output_type": "execute_result"
        }
      ],
      "source": [
        "cond = sales_info['Revenue'] >= 10_000\n",
        "\n",
        "# sales_info.loc[cond, 'Order_Quantity'].mean()\n",
        "# cond"
      ]
    },
    {
      "cell_type": "markdown",
      "metadata": {
        "id": "eLrGi0dp4Ieo"
      },
      "source": [
        "What is the mean Order_Quantity of orders with less than 10K in revenue?"
      ]
    },
    {
      "cell_type": "markdown",
      "metadata": {
        "id": "x7wbPqez4MKY"
      },
      "source": [
        "How many orders were made in May of 2016?"
      ]
    },
    {
      "cell_type": "code",
      "execution_count": null,
      "metadata": {
        "id": "NJiYd-Nwcmnp"
      },
      "outputs": [],
      "source": [
        "#cond=(sales_info['Year'] == 2016) & (sales_info['Month'] =='May')\n",
        "#sales_info.loc[cond, 'Order_Quantity'].count()"
      ]
    },
    {
      "cell_type": "code",
      "execution_count": null,
      "metadata": {
        "id": "efGIfMxLc-F3"
      },
      "outputs": [],
      "source": [
        "cond = (sales_info['Year'] == 2016) & (sales_info['Month'] == 'May')\n",
        "\n",
        "sales_info.loc[cond].shape[0]"
      ]
    },
    {
      "cell_type": "code",
      "execution_count": null,
      "metadata": {
        "id": "6jWs4NfgbwqR"
      },
      "outputs": [],
      "source": [
        "# sales_info.loc[(sales_info['Year'] == 2016) & (sales_info['Month'] =='May')].shape[0]"
      ]
    },
    {
      "cell_type": "markdown",
      "metadata": {
        "id": "uHTlX0NX4PRg"
      },
      "source": [
        "How many orders were made between May and July of 2016? \\\\\n",
        "Show a grouped box plot per month with the profit values."
      ]
    },
    {
      "cell_type": "code",
      "execution_count": null,
      "metadata": {
        "colab": {
          "base_uri": "https://localhost:8080/"
        },
        "id": "_cLo6QeidPQ_",
        "outputId": "a6915bc2-2ad1-4ae5-db02-6c0a8be211b5"
      },
      "outputs": [
        {
          "data": {
            "text/plain": [
              "12164"
            ]
          },
          "execution_count": 61,
          "metadata": {},
          "output_type": "execute_result"
        }
      ],
      "source": [
        "cond = (sales_info['Year'] == 2016) & (sales_info['Month'].isin(['May', 'June', 'July']))\n",
        "\n",
        "sales_info.loc[cond].shape[0]"
      ]
    },
    {
      "cell_type": "markdown",
      "metadata": {
        "id": "ZY6zAV8b4ZLh"
      },
      "source": [
        "Add 7.2% TAX on every sale Unit_Price within United States"
      ]
    },
    {
      "cell_type": "code",
      "execution_count": null,
      "metadata": {
        "id": "WWHR4HM5zm3p"
      },
      "outputs": [],
      "source": [
        "sales_info.loc[sales_info['Country'] == 'United States', 'Unit_Price'] *= 1.072"
      ]
    },
    {
      "cell_type": "markdown",
      "metadata": {
        "id": "8JKS8F98Lfp-"
      },
      "source": [
        "Extra Questions"
      ]
    },
    {
      "cell_type": "markdown",
      "metadata": {
        "id": "Nogl5boNLhmX"
      },
      "source": [
        "Plot a density (kde) plot for Unit_cost and keep a vertical line (coloured red) on the mean and a green line on median."
      ]
    },
    {
      "cell_type": "code",
      "execution_count": null,
      "metadata": {
        "id": "15Z3zuOmLjBF"
      },
      "outputs": [],
      "source": [
        "ax = sales_info['Unit_Cost'].plot(kind='density', figsize=(14,6)) # kde\n",
        "ax.axvline(sales_info['Unit_Cost'].mean(), color='red')\n",
        "ax.axvline(sales_info['Unit_Cost'].median(), color='green')"
      ]
    },
    {
      "cell_type": "markdown",
      "metadata": {
        "id": "obBBmgufTrWu"
      },
      "source": [
        "Show a pie plot of different age groups : Adults (35-64),      \n",
        "Young Adults (25-34)   \n",
        "Youth (<25)            \n",
        "Seniors (64+)  "
      ]
    },
    {
      "cell_type": "code",
      "execution_count": null,
      "metadata": {
        "id": "dMZKFFYjTrvH"
      },
      "outputs": [],
      "source": [
        "sales['Age_Group'].value_counts().plot(kind='pie', figsize=(6,6))"
      ]
    },
    {
      "cell_type": "markdown",
      "metadata": {
        "id": "HknCfpZ4T1qO"
      },
      "source": [
        "Relationship between the columns of your table"
      ]
    },
    {
      "cell_type": "code",
      "execution_count": null,
      "metadata": {
        "id": "DkaFV8x1UBj4"
      },
      "outputs": [],
      "source": [
        "corr = sales.corr()\n",
        "\n",
        "corr"
      ]
    },
    {
      "cell_type": "markdown",
      "metadata": {
        "id": "u-gG2HGCUDcX"
      },
      "source": [
        "Visual representation of coorelation"
      ]
    },
    {
      "cell_type": "code",
      "execution_count": null,
      "metadata": {
        "id": "l8rHtbT2Uc-2"
      },
      "outputs": [],
      "source": [
        "fig = plt.figure(figsize=(8,8))\n",
        "plt.matshow(corr, cmap='RdBu', fignum=fig.number)\n",
        "plt.xticks(range(len(corr.columns)), corr.columns, rotation='vertical');\n",
        "plt.yticks(range(len(corr.columns)), corr.columns);"
      ]
    },
    {
      "cell_type": "markdown",
      "metadata": {
        "id": "ja0hJ4UTVGzW"
      },
      "source": [
        "How does the distribution of the variables 'Year,' 'Customer_Age,' 'Order_Quantity,' 'Unit_Cost,' 'Unit_Price,' and 'Profit' look in the dataset, as visualized through sub-boxplots? What insights can be derived from the boxplot analysis, and are there any notable patterns or outliers across these variables?"
      ]
    },
    {
      "cell_type": "code",
      "execution_count": null,
      "metadata": {
        "id": "lOWeB6aPVKNv"
      },
      "outputs": [],
      "source": [
        "\n",
        "boxplot_cols = ['Year', 'Customer_Age', 'Order_Quantity', 'Unit_Cost', 'Unit_Price', 'Profit']\n",
        "\n",
        "sales[boxplot_cols].plot(kind='box', subplots=True, layout=(2,3), figsize=(14,8))"
      ]
    },
    {
      "cell_type": "markdown",
      "metadata": {
        "id": "njGwXPnXV0JP"
      },
      "source": [
        "Column wrangling \\\\\n",
        "We can also create new columns or modify existing ones. \\\\\n",
        "Calculate Revenue_per_Age and add it as a new column"
      ]
    },
    {
      "cell_type": "code",
      "execution_count": null,
      "metadata": {
        "id": "07ajwgJKVmpv"
      },
      "outputs": [],
      "source": [
        "sales['Revenue_per_Age'] = sales['Revenue'] / sales['Customer_Age']\n",
        "\n",
        "sales['Revenue_per_Age'].head()"
      ]
    },
    {
      "cell_type": "markdown",
      "metadata": {
        "id": "NYFFVbPIWag_"
      },
      "source": [
        "Modify all Unit_Price values adding 3% tax to them"
      ]
    },
    {
      "cell_type": "code",
      "execution_count": null,
      "metadata": {
        "id": "ZGW3VwpDWbBn"
      },
      "outputs": [],
      "source": [
        "sales['Unit_Price'] *= 1.03"
      ]
    },
    {
      "cell_type": "markdown",
      "metadata": {
        "id": "v_ovKhMXW7Iv"
      },
      "source": [
        "Get the mean revenue of the Adults (35-64) sales group"
      ]
    },
    {
      "cell_type": "code",
      "execution_count": null,
      "metadata": {
        "id": "D_LzcgHFXD8_"
      },
      "outputs": [],
      "source": [
        "sales.loc[sales['Age_Group'] == 'Adults (35-64)', 'Revenue'].mean()"
      ]
    },
    {
      "cell_type": "markdown",
      "metadata": {
        "id": "B6Z0fNBSXFZv"
      },
      "source": [
        "How many records belong to Age Group Youth (<25) or Adults (35-64)?"
      ]
    },
    {
      "cell_type": "code",
      "execution_count": null,
      "metadata": {
        "id": "liH76-fJXIbq"
      },
      "outputs": [],
      "source": [
        "sales.loc[(sales['Age_Group'] == 'Youth (<25)') | (sales['Age_Group'] == 'Adults (35-64)')].shape[0]"
      ]
    },
    {
      "cell_type": "markdown",
      "metadata": {
        "id": "a_IF0DmBXM0o"
      },
      "source": [
        "Add and calculate a new Calculated_Date column \\\\\n",
        "\n",
        "1.   List item\n",
        "2.   List item\n",
        "\n",
        "\n",
        "Use Day, Month, Year to create a Date column (YYYY-MM-DD).\n"
      ]
    },
    {
      "cell_type": "code",
      "execution_count": null,
      "metadata": {
        "id": "AiOogDnxeiJy"
      },
      "outputs": [],
      "source": [
        "sales_info['Calculated_Date'] = sales_info[['Year', 'Month', 'Day']].apply(lambda x: '{}-{}-{}'.format(x[0], x[1], x[2]), axis=1)\n",
        "\n",
        "sales_info['Calculated_Date'].head()\n",
        "# An anonymous function which we can pass in instantly without defining a name or any thing like a full traditional function."
      ]
    },
    {
      "cell_type": "markdown",
      "metadata": {
        "id": "9GVVWZDsejIL"
      },
      "source": [
        "Qn?"
      ]
    },
    {
      "cell_type": "code",
      "execution_count": null,
      "metadata": {
        "id": "MaYTH0-yeiv6"
      },
      "outputs": [],
      "source": [
        "sales_info['Calculated_Date'] = pd.to_datetime(sales_info['Calculated_Date'])\n",
        "\n",
        "sales_info['Calculated_Date'].head()"
      ]
    },
    {
      "cell_type": "markdown",
      "metadata": {
        "id": "U046JWtUzDJ4"
      },
      "source": [
        "How did sales evolve through the years? \\\\\n",
        "Show a line plot using Calculated_Date column as the x-axis and the count of sales as the y-axis."
      ]
    },
    {
      "cell_type": "code",
      "execution_count": null,
      "metadata": {
        "id": "-MfewzhXzDyI"
      },
      "outputs": [],
      "source": [
        "sales_info['Calculated_Date'].value_counts().plot(kind='line', figsize=(14,6))"
      ]
    }
  ],
  "metadata": {
    "colab": {
      "provenance": []
    },
    "kernelspec": {
      "display_name": "Python 3",
      "name": "python3"
    },
    "language_info": {
      "codemirror_mode": {
        "name": "ipython",
        "version": 3
      },
      "file_extension": ".py",
      "mimetype": "text/x-python",
      "name": "python",
      "nbconvert_exporter": "python",
      "pygments_lexer": "ipython3",
      "version": "3.11.5"
    }
  },
  "nbformat": 4,
  "nbformat_minor": 0
}
